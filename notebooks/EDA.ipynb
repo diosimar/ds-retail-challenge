{
 "cells": [
  {
   "cell_type": "code",
   "execution_count": null,
   "id": "c0d32916",
   "metadata": {},
   "outputs": [],
   "source": [
    "# cargue de librerias "
   ]
  }
 ],
 "metadata": {
  "language_info": {
   "name": "python"
  }
 },
 "nbformat": 4,
 "nbformat_minor": 5
}
